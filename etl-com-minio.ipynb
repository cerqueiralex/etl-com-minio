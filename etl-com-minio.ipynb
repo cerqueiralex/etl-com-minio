{
 "cells": [
  {
   "cell_type": "code",
   "execution_count": null,
   "id": "dff6b5f5-8c17-4185-bc3b-65997d5988df",
   "metadata": {
    "tags": []
   },
   "outputs": [],
   "source": [
    "!pip install boto3"
   ]
  },
  {
   "cell_type": "code",
   "execution_count": 1,
   "id": "e42abb40-52b4-4b2e-bfeb-e230ba4896bc",
   "metadata": {
    "tags": []
   },
   "outputs": [],
   "source": [
    "import pandas as pd\n",
    "\n",
    "#Biblioteca para se conectar com APIs de terceiros\n",
    "import boto3\n",
    "\n",
    "from io import BytesIO\n",
    "from io import StringIO"
   ]
  },
  {
   "cell_type": "code",
   "execution_count": 2,
   "id": "c5f4e1d0-3331-493c-b6c0-f3dbbe28f0b3",
   "metadata": {
    "tags": []
   },
   "outputs": [
    {
     "data": {
      "text/plain": [
       "<botocore.client.S3 at 0xffff4c7c8df0>"
      ]
     },
     "execution_count": 2,
     "metadata": {},
     "output_type": "execute_result"
    }
   ],
   "source": [
    "client = boto3.client(\n",
    "    's3',\n",
    "    endpoint_url=\"http://awari-minio-nginx:9000\",\n",
    "    aws_access_key_id=\"mnzf2Dw34eOEohXh\",\n",
    "    aws_secret_access_key=\"kXuPY6NVaHMySNct8INu1LB0lwNVLfYJ\",\n",
    "    aws_session_token=None,\n",
    "    region_name=\"sa-east-1\",\n",
    "    verify=False,\n",
    "    config=boto3.session.Config(signature_version='s3v4')\n",
    "    \n",
    ")\n",
    "\n",
    "client"
   ]
  },
  {
   "cell_type": "code",
   "execution_count": 4,
   "id": "764054a6-b6c8-406b-ba3d-f9ca4a84eeef",
   "metadata": {
    "tags": []
   },
   "outputs": [
    {
     "data": {
      "text/plain": [
       "'topyoutube.csv'"
      ]
     },
     "execution_count": 4,
     "metadata": {},
     "output_type": "execute_result"
    }
   ],
   "source": [
    "file_path = 'topyoutube.csv'\n",
    "\n",
    "df = pd.read_csv(file_path)\n",
    "\n",
    "file_path"
   ]
  },
  {
   "cell_type": "code",
   "execution_count": 7,
   "id": "e573bf4a-399b-4044-b0ac-7af541ff3dff",
   "metadata": {
    "tags": []
   },
   "outputs": [
    {
     "data": {
      "text/plain": [
       "{'ResponseMetadata': {'RequestId': '17AF33107E402CCF',\n",
       "  'HostId': 'e3b0c44298fc1c149afbf4c8996fb92427ae41e4649b934ca495991b7852b855',\n",
       "  'HTTPStatusCode': 200,\n",
       "  'HTTPHeaders': {'server': 'nginx/1.19.2',\n",
       "   'date': 'Tue, 30 Jan 2024 18:22:09 GMT',\n",
       "   'content-length': '0',\n",
       "   'connection': 'keep-alive',\n",
       "   'accept-ranges': 'bytes',\n",
       "   'content-security-policy': 'block-all-mixed-content',\n",
       "   'etag': '\"251045da74a03aa67f35a2af6b0d5483\"',\n",
       "   'strict-transport-security': 'max-age=31536000; includeSubDomains',\n",
       "   'vary': 'Origin, Accept-Encoding',\n",
       "   'x-amz-bucket-region': 'sa-east-1',\n",
       "   'x-amz-id-2': 'e3b0c44298fc1c149afbf4c8996fb92427ae41e4649b934ca495991b7852b855',\n",
       "   'x-amz-request-id': '17AF33107E402CCF',\n",
       "   'x-content-type-options': 'nosniff',\n",
       "   'x-xss-protection': '1; mode=block'},\n",
       "  'RetryAttempts': 0},\n",
       " 'ETag': '\"251045da74a03aa67f35a2af6b0d5483\"'}"
      ]
     },
     "execution_count": 7,
     "metadata": {},
     "output_type": "execute_result"
    }
   ],
   "source": [
    "#Antes de fazer o upload do csv, precisamos criá-lo e subir o csv na memória\n",
    "\n",
    "csv_buffer = StringIO ()\n",
    "\n",
    "df.to_csv(csv_buffer)\n",
    "\n",
    "#Depois que o csv estiver na memória através da função csv_buffer, podemos uploadear ele para o datalake\n",
    "client.put_object (Body=csv_buffer.getvalue(), Bucket='aula-06', Key=\"diretorio/topyoutube.csv\")"
   ]
  },
  {
   "cell_type": "code",
   "execution_count": 8,
   "id": "824f2d51-f7ec-45d9-9b2c-d469c443f498",
   "metadata": {
    "tags": []
   },
   "outputs": [
    {
     "data": {
      "text/html": [
       "<div>\n",
       "<style scoped>\n",
       "    .dataframe tbody tr th:only-of-type {\n",
       "        vertical-align: middle;\n",
       "    }\n",
       "\n",
       "    .dataframe tbody tr th {\n",
       "        vertical-align: top;\n",
       "    }\n",
       "\n",
       "    .dataframe thead th {\n",
       "        text-align: right;\n",
       "    }\n",
       "</style>\n",
       "<table border=\"1\" class=\"dataframe\">\n",
       "  <thead>\n",
       "    <tr style=\"text-align: right;\">\n",
       "      <th></th>\n",
       "      <th>Unnamed: 0</th>\n",
       "      <th>Artist</th>\n",
       "      <th>Total Views</th>\n",
       "      <th>100M</th>\n",
       "      <th>Avg</th>\n",
       "    </tr>\n",
       "  </thead>\n",
       "  <tbody>\n",
       "    <tr>\n",
       "      <th>0</th>\n",
       "      <td>0</td>\n",
       "      <td>BTS</td>\n",
       "      <td>27,947.9</td>\n",
       "      <td>63.0</td>\n",
       "      <td>7.370</td>\n",
       "    </tr>\n",
       "    <tr>\n",
       "      <th>1</th>\n",
       "      <td>1</td>\n",
       "      <td>Bad Bunny</td>\n",
       "      <td>27,573.4</td>\n",
       "      <td>66.0</td>\n",
       "      <td>14.555</td>\n",
       "    </tr>\n",
       "    <tr>\n",
       "      <th>2</th>\n",
       "      <td>2</td>\n",
       "      <td>Justin Bieber</td>\n",
       "      <td>27,399.7</td>\n",
       "      <td>37.0</td>\n",
       "      <td>3.986</td>\n",
       "    </tr>\n",
       "    <tr>\n",
       "      <th>3</th>\n",
       "      <td>3</td>\n",
       "      <td>Ed Sheeran</td>\n",
       "      <td>26,894.0</td>\n",
       "      <td>39.0</td>\n",
       "      <td>4.609</td>\n",
       "    </tr>\n",
       "    <tr>\n",
       "      <th>4</th>\n",
       "      <td>4</td>\n",
       "      <td>Taylor Swift</td>\n",
       "      <td>24,350.0</td>\n",
       "      <td>38.0</td>\n",
       "      <td>5.716</td>\n",
       "    </tr>\n",
       "  </tbody>\n",
       "</table>\n",
       "</div>"
      ],
      "text/plain": [
       "   Unnamed: 0         Artist Total Views  100M     Avg\n",
       "0           0            BTS    27,947.9  63.0   7.370\n",
       "1           1      Bad Bunny    27,573.4  66.0  14.555\n",
       "2           2  Justin Bieber    27,399.7  37.0   3.986\n",
       "3           3     Ed Sheeran    26,894.0  39.0   4.609\n",
       "4           4   Taylor Swift    24,350.0  38.0   5.716"
      ]
     },
     "execution_count": 8,
     "metadata": {},
     "output_type": "execute_result"
    }
   ],
   "source": [
    "#Fazer o processo inverso -> agora que o arquivo está no datalake, vamos ler o arquivo\n",
    "\n",
    "obj = client.get_object(\n",
    "    Bucket = 'aula-06',\n",
    "    Key = \"diretorio/topyoutube.csv\"\n",
    ").get(\"Body\")\n",
    "\n",
    "data = pd.read_csv(obj)\n",
    "data.head()"
   ]
  },
  {
   "cell_type": "code",
   "execution_count": null,
   "id": "e039b6e1-dd1e-49cd-9368-aec2d8825f6e",
   "metadata": {},
   "outputs": [],
   "source": []
  }
 ],
 "metadata": {
  "kernelspec": {
   "display_name": "Python 3 (ipykernel)",
   "language": "python",
   "name": "python3"
  },
  "language_info": {
   "codemirror_mode": {
    "name": "ipython",
    "version": 3
   },
   "file_extension": ".py",
   "mimetype": "text/x-python",
   "name": "python",
   "nbconvert_exporter": "python",
   "pygments_lexer": "ipython3",
   "version": "3.10.9"
  }
 },
 "nbformat": 4,
 "nbformat_minor": 5
}
